{
 "cells": [
  {
   "cell_type": "code",
   "execution_count": 2,
   "metadata": {},
   "outputs": [],
   "source": [
    "import sys\n",
    "sys.path.append(\"../../\")\n",
    "import warnings\n",
    "warnings.simplefilter(action=\"ignore\")\n",
    "import numpy as np\n",
    "import seaborn as sns\n",
    "import pandas as pd\n",
    "import polars as pl\n",
    "from functions.eda import *\n",
    "from functions.cat_eda import *\n",
    "from functions.num_eda import *\n",
    "from functions.pipeline_helpers import *"
   ]
  },
  {
   "cell_type": "code",
   "execution_count": 18,
   "metadata": {},
   "outputs": [
    {
     "data": {
      "text/html": [
       "<div><style>\n",
       ".dataframe > thead > tr,\n",
       ".dataframe > tbody > tr {\n",
       "  text-align: right;\n",
       "  white-space: pre-wrap;\n",
       "}\n",
       "</style>\n",
       "<small>shape: (5_811, 15)</small><table border=\"1\" class=\"dataframe\"><thead><tr><th>RecordID</th><th>AQI</th><th>PM10</th><th>PM2_5</th><th>NO2</th><th>SO2</th><th>O3</th><th>Temperature</th><th>Humidity</th><th>WindSpeed</th><th>RespiratoryCases</th><th>CardiovascularCases</th><th>HospitalAdmissions</th><th>HealthImpactScore</th><th>HealthImpactClass</th></tr><tr><td>i64</td><td>f64</td><td>f64</td><td>f64</td><td>f64</td><td>f64</td><td>f64</td><td>f64</td><td>f64</td><td>f64</td><td>i64</td><td>i64</td><td>i64</td><td>f64</td><td>f64</td></tr></thead><tbody><tr><td>1</td><td>187.270059</td><td>295.853039</td><td>13.03856</td><td>6.639263</td><td>66.16115</td><td>54.62428</td><td>5.150335</td><td>84.424344</td><td>6.137755</td><td>7</td><td>5</td><td>1</td><td>97.244041</td><td>0.0</td></tr><tr><td>2</td><td>475.357153</td><td>246.254703</td><td>9.984497</td><td>16.318326</td><td>90.499523</td><td>169.621728</td><td>1.543378</td><td>46.851415</td><td>4.521422</td><td>10</td><td>2</td><td>0</td><td>100.0</td><td>0.0</td></tr><tr><td>3</td><td>365.996971</td><td>84.443191</td><td>23.11134</td><td>96.317811</td><td>17.87585</td><td>9.006794</td><td>1.169483</td><td>17.806977</td><td>11.157384</td><td>13</td><td>3</td><td>0</td><td>100.0</td><td>0.0</td></tr><tr><td>4</td><td>299.329242</td><td>21.020609</td><td>14.273403</td><td>81.234403</td><td>48.323616</td><td>93.161033</td><td>21.925276</td><td>99.473373</td><td>15.3025</td><td>8</td><td>8</td><td>1</td><td>100.0</td><td>0.0</td></tr><tr><td>5</td><td>78.00932</td><td>16.987667</td><td>152.111623</td><td>121.235461</td><td>90.866167</td><td>241.795138</td><td>9.217517</td><td>24.906837</td><td>14.534733</td><td>9</td><td>0</td><td>1</td><td>95.182643</td><td>0.0</td></tr><tr><td>&hellip;</td><td>&hellip;</td><td>&hellip;</td><td>&hellip;</td><td>&hellip;</td><td>&hellip;</td><td>&hellip;</td><td>&hellip;</td><td>&hellip;</td><td>&hellip;</td><td>&hellip;</td><td>&hellip;</td><td>&hellip;</td><td>&hellip;</td><td>&hellip;</td></tr><tr><td>5807</td><td>171.112762</td><td>11.246387</td><td>197.984628</td><td>158.643107</td><td>17.743678</td><td>280.370909</td><td>37.359323</td><td>61.70764</td><td>4.097129</td><td>14</td><td>5</td><td>2</td><td>100.0</td><td>4.0</td></tr><tr><td>5808</td><td>490.691667</td><td>275.340762</td><td>55.77417</td><td>132.336871</td><td>29.334724</td><td>108.043492</td><td>34.532542</td><td>21.528555</td><td>6.682549</td><td>8</td><td>6</td><td>2</td><td>100.0</td><td>3.0</td></tr><tr><td>5809</td><td>314.841798</td><td>41.892699</td><td>184.708551</td><td>82.105823</td><td>68.334578</td><td>105.568503</td><td>22.975564</td><td>92.725625</td><td>2.889698</td><td>12</td><td>2</td><td>3</td><td>100.0</td><td>1.0</td></tr><tr><td>5810</td><td>208.080473</td><td>165.533785</td><td>199.177255</td><td>100.796385</td><td>87.586488</td><td>166.469537</td><td>36.09062</td><td>25.836286</td><td>10.722393</td><td>6</td><td>2</td><td>3</td><td>100.0</td><td>4.0</td></tr><tr><td>5811</td><td>83.269257</td><td>82.216262</td><td>119.968244</td><td>193.440691</td><td>79.849177</td><td>28.681885</td><td>18.23909</td><td>77.096194</td><td>16.41032</td><td>14</td><td>2</td><td>2</td><td>81.668298</td><td>0.0</td></tr></tbody></table></div>"
      ],
      "text/plain": [
       "shape: (5_811, 15)\n",
       "┌──────────┬───────────┬───────────┬───────────┬───┬───────────┬───────────┬───────────┬───────────┐\n",
       "│ RecordID ┆ AQI       ┆ PM10      ┆ PM2_5     ┆ … ┆ Cardiovas ┆ HospitalA ┆ HealthImp ┆ HealthImp │\n",
       "│ ---      ┆ ---       ┆ ---       ┆ ---       ┆   ┆ cularCase ┆ dmissions ┆ actScore  ┆ actClass  │\n",
       "│ i64      ┆ f64       ┆ f64       ┆ f64       ┆   ┆ s         ┆ ---       ┆ ---       ┆ ---       │\n",
       "│          ┆           ┆           ┆           ┆   ┆ ---       ┆ i64       ┆ f64       ┆ f64       │\n",
       "│          ┆           ┆           ┆           ┆   ┆ i64       ┆           ┆           ┆           │\n",
       "╞══════════╪═══════════╪═══════════╪═══════════╪═══╪═══════════╪═══════════╪═══════════╪═══════════╡\n",
       "│ 1        ┆ 187.27005 ┆ 295.85303 ┆ 13.03856  ┆ … ┆ 5         ┆ 1         ┆ 97.244041 ┆ 0.0       │\n",
       "│          ┆ 9         ┆ 9         ┆           ┆   ┆           ┆           ┆           ┆           │\n",
       "│ 2        ┆ 475.35715 ┆ 246.25470 ┆ 9.984497  ┆ … ┆ 2         ┆ 0         ┆ 100.0     ┆ 0.0       │\n",
       "│          ┆ 3         ┆ 3         ┆           ┆   ┆           ┆           ┆           ┆           │\n",
       "│ 3        ┆ 365.99697 ┆ 84.443191 ┆ 23.11134  ┆ … ┆ 3         ┆ 0         ┆ 100.0     ┆ 0.0       │\n",
       "│          ┆ 1         ┆           ┆           ┆   ┆           ┆           ┆           ┆           │\n",
       "│ 4        ┆ 299.32924 ┆ 21.020609 ┆ 14.273403 ┆ … ┆ 8         ┆ 1         ┆ 100.0     ┆ 0.0       │\n",
       "│          ┆ 2         ┆           ┆           ┆   ┆           ┆           ┆           ┆           │\n",
       "│ 5        ┆ 78.00932  ┆ 16.987667 ┆ 152.11162 ┆ … ┆ 0         ┆ 1         ┆ 95.182643 ┆ 0.0       │\n",
       "│          ┆           ┆           ┆ 3         ┆   ┆           ┆           ┆           ┆           │\n",
       "│ …        ┆ …         ┆ …         ┆ …         ┆ … ┆ …         ┆ …         ┆ …         ┆ …         │\n",
       "│ 5807     ┆ 171.11276 ┆ 11.246387 ┆ 197.98462 ┆ … ┆ 5         ┆ 2         ┆ 100.0     ┆ 4.0       │\n",
       "│          ┆ 2         ┆           ┆ 8         ┆   ┆           ┆           ┆           ┆           │\n",
       "│ 5808     ┆ 490.69166 ┆ 275.34076 ┆ 55.77417  ┆ … ┆ 6         ┆ 2         ┆ 100.0     ┆ 3.0       │\n",
       "│          ┆ 7         ┆ 2         ┆           ┆   ┆           ┆           ┆           ┆           │\n",
       "│ 5809     ┆ 314.84179 ┆ 41.892699 ┆ 184.70855 ┆ … ┆ 2         ┆ 3         ┆ 100.0     ┆ 1.0       │\n",
       "│          ┆ 8         ┆           ┆ 1         ┆   ┆           ┆           ┆           ┆           │\n",
       "│ 5810     ┆ 208.08047 ┆ 165.53378 ┆ 199.17725 ┆ … ┆ 2         ┆ 3         ┆ 100.0     ┆ 4.0       │\n",
       "│          ┆ 3         ┆ 5         ┆ 5         ┆   ┆           ┆           ┆           ┆           │\n",
       "│ 5811     ┆ 83.269257 ┆ 82.216262 ┆ 119.96824 ┆ … ┆ 2         ┆ 2         ┆ 81.668298 ┆ 0.0       │\n",
       "│          ┆           ┆           ┆ 4         ┆   ┆           ┆           ┆           ┆           │\n",
       "└──────────┴───────────┴───────────┴───────────┴───┴───────────┴───────────┴───────────┴───────────┘"
      ]
     },
     "execution_count": 18,
     "metadata": {},
     "output_type": "execute_result"
    }
   ],
   "source": [
    "data=pl.read_csv(\"air_quality_health_impact_data.csv\")\n",
    "data"
   ]
  },
  {
   "cell_type": "code",
   "execution_count": 19,
   "metadata": {},
   "outputs": [
    {
     "data": {
      "text/html": [
       "<div><style>\n",
       ".dataframe > thead > tr,\n",
       ".dataframe > tbody > tr {\n",
       "  text-align: right;\n",
       "  white-space: pre-wrap;\n",
       "}\n",
       "</style>\n",
       "<small>shape: (1, 15)</small><table border=\"1\" class=\"dataframe\"><thead><tr><th>RecordID</th><th>AQI</th><th>PM10</th><th>PM2_5</th><th>NO2</th><th>SO2</th><th>O3</th><th>Temperature</th><th>Humidity</th><th>WindSpeed</th><th>RespiratoryCases</th><th>CardiovascularCases</th><th>HospitalAdmissions</th><th>HealthImpactScore</th><th>HealthImpactClass</th></tr><tr><td>u32</td><td>u32</td><td>u32</td><td>u32</td><td>u32</td><td>u32</td><td>u32</td><td>u32</td><td>u32</td><td>u32</td><td>u32</td><td>u32</td><td>u32</td><td>u32</td><td>u32</td></tr></thead><tbody><tr><td>0</td><td>0</td><td>0</td><td>0</td><td>0</td><td>0</td><td>0</td><td>0</td><td>0</td><td>0</td><td>0</td><td>0</td><td>0</td><td>0</td><td>0</td></tr></tbody></table></div>"
      ],
      "text/plain": [
       "shape: (1, 15)\n",
       "┌──────────┬─────┬──────┬───────┬───┬───────────────┬───────────────┬───────────────┬──────────────┐\n",
       "│ RecordID ┆ AQI ┆ PM10 ┆ PM2_5 ┆ … ┆ Cardiovascula ┆ HospitalAdmis ┆ HealthImpactS ┆ HealthImpact │\n",
       "│ ---      ┆ --- ┆ ---  ┆ ---   ┆   ┆ rCases        ┆ sions         ┆ core          ┆ Class        │\n",
       "│ u32      ┆ u32 ┆ u32  ┆ u32   ┆   ┆ ---           ┆ ---           ┆ ---           ┆ ---          │\n",
       "│          ┆     ┆      ┆       ┆   ┆ u32           ┆ u32           ┆ u32           ┆ u32          │\n",
       "╞══════════╪═════╪══════╪═══════╪═══╪═══════════════╪═══════════════╪═══════════════╪══════════════╡\n",
       "│ 0        ┆ 0   ┆ 0    ┆ 0     ┆ … ┆ 0             ┆ 0             ┆ 0             ┆ 0            │\n",
       "└──────────┴─────┴──────┴───────┴───┴───────────────┴───────────────┴───────────────┴──────────────┘"
      ]
     },
     "execution_count": 19,
     "metadata": {},
     "output_type": "execute_result"
    }
   ],
   "source": [
    "data.null_count()"
   ]
  },
  {
   "cell_type": "code",
   "execution_count": 20,
   "metadata": {},
   "outputs": [
    {
     "data": {
      "text/html": [
       "<div><style>\n",
       ".dataframe > thead > tr,\n",
       ".dataframe > tbody > tr {\n",
       "  text-align: right;\n",
       "  white-space: pre-wrap;\n",
       "}\n",
       "</style>\n",
       "<small>shape: (5,)</small><table border=\"1\" class=\"dataframe\"><thead><tr><th>HealthImpactClass</th></tr><tr><td>f64</td></tr></thead><tbody><tr><td>0.0</td></tr><tr><td>1.0</td></tr><tr><td>2.0</td></tr><tr><td>3.0</td></tr><tr><td>4.0</td></tr></tbody></table></div>"
      ],
      "text/plain": [
       "shape: (5,)\n",
       "Series: 'HealthImpactClass' [f64]\n",
       "[\n",
       "\t0.0\n",
       "\t1.0\n",
       "\t2.0\n",
       "\t3.0\n",
       "\t4.0\n",
       "]"
      ]
     },
     "execution_count": 20,
     "metadata": {},
     "output_type": "execute_result"
    }
   ],
   "source": [
    "data['HealthImpactClass'].unique()"
   ]
  },
  {
   "cell_type": "code",
   "execution_count": 21,
   "metadata": {},
   "outputs": [
    {
     "data": {
      "text/html": [
       "<div><style>\n",
       ".dataframe > thead > tr,\n",
       ".dataframe > tbody > tr {\n",
       "  text-align: right;\n",
       "  white-space: pre-wrap;\n",
       "}\n",
       "</style>\n",
       "<small>shape: (15, 16)</small><table border=\"1\" class=\"dataframe\"><thead><tr><th>RecordID</th><th>AQI</th><th>PM10</th><th>PM2_5</th><th>NO2</th><th>SO2</th><th>O3</th><th>Temperature</th><th>Humidity</th><th>WindSpeed</th><th>RespiratoryCases</th><th>CardiovascularCases</th><th>HospitalAdmissions</th><th>HealthImpactScore</th><th>HealthImpactClass</th><th>comp</th></tr><tr><td>f64</td><td>f64</td><td>f64</td><td>f64</td><td>f64</td><td>f64</td><td>f64</td><td>f64</td><td>f64</td><td>f64</td><td>f64</td><td>f64</td><td>f64</td><td>f64</td><td>f64</td><td>str</td></tr></thead><tbody><tr><td>1.0</td><td>-0.003768</td><td>0.02226</td><td>0.022816</td><td>0.010694</td><td>-0.021524</td><td>-0.000874</td><td>0.00408</td><td>-0.001449</td><td>0.018529</td><td>-0.014545</td><td>-0.030537</td><td>-0.008299</td><td>0.015786</td><td>0.198229</td><td>&quot;RecordID&quot;</td></tr><tr><td>-0.003768</td><td>1.0</td><td>0.023127</td><td>0.00589</td><td>0.007836</td><td>-0.006644</td><td>0.002339</td><td>0.004185</td><td>-0.004217</td><td>-0.018816</td><td>0.009302</td><td>0.009158</td><td>-0.013592</td><td>0.61456</td><td>-0.348106</td><td>&quot;AQI&quot;</td></tr><tr><td>0.02226</td><td>0.023127</td><td>1.0</td><td>-0.012193</td><td>0.008487</td><td>-0.007177</td><td>-0.004411</td><td>-0.017561</td><td>-0.01729</td><td>-0.018959</td><td>-0.001315</td><td>0.015582</td><td>-0.009076</td><td>0.1826</td><td>-0.108271</td><td>&quot;PM10&quot;</td></tr><tr><td>0.022816</td><td>0.00589</td><td>-0.012193</td><td>1.0</td><td>0.005564</td><td>0.015894</td><td>0.00607</td><td>-0.001978</td><td>0.00672</td><td>0.009041</td><td>0.025244</td><td>0.017312</td><td>-0.023123</td><td>0.220347</td><td>-0.152407</td><td>&quot;PM2_5&quot;</td></tr><tr><td>0.010694</td><td>0.007836</td><td>0.008487</td><td>0.005564</td><td>1.0</td><td>-0.019979</td><td>-0.01491</td><td>0.006971</td><td>-0.0111</td><td>-0.001398</td><td>0.019849</td><td>-0.005012</td><td>-0.002859</td><td>0.124435</td><td>-0.090387</td><td>&quot;NO2&quot;</td></tr><tr><td>&hellip;</td><td>&hellip;</td><td>&hellip;</td><td>&hellip;</td><td>&hellip;</td><td>&hellip;</td><td>&hellip;</td><td>&hellip;</td><td>&hellip;</td><td>&hellip;</td><td>&hellip;</td><td>&hellip;</td><td>&hellip;</td><td>&hellip;</td><td>&hellip;</td><td>&hellip;</td></tr><tr><td>-0.014545</td><td>0.009302</td><td>-0.001315</td><td>0.025244</td><td>0.019849</td><td>0.01113</td><td>-0.010068</td><td>0.009394</td><td>0.008691</td><td>-0.010553</td><td>1.0</td><td>-0.002621</td><td>0.009679</td><td>0.019268</td><td>-0.008536</td><td>&quot;RespiratoryCases&quot;</td></tr><tr><td>-0.030537</td><td>0.009158</td><td>0.015582</td><td>0.017312</td><td>-0.005012</td><td>-0.002672</td><td>0.001753</td><td>0.009249</td><td>-0.024617</td><td>0.003715</td><td>-0.002621</td><td>1.0</td><td>-0.035632</td><td>-0.008857</td><td>0.001848</td><td>&quot;CardiovascularCases&quot;</td></tr><tr><td>-0.008299</td><td>-0.013592</td><td>-0.009076</td><td>-0.023123</td><td>-0.002859</td><td>-0.010546</td><td>-0.014293</td><td>0.007943</td><td>-0.004865</td><td>-0.006454</td><td>0.009679</td><td>-0.035632</td><td>1.0</td><td>-0.029304</td><td>0.014873</td><td>&quot;HospitalAdmissions&quot;</td></tr><tr><td>0.015786</td><td>0.61456</td><td>0.1826</td><td>0.220347</td><td>0.124435</td><td>0.015535</td><td>0.15794</td><td>-0.010556</td><td>0.000662</td><td>-0.025447</td><td>0.019268</td><td>-0.008857</td><td>-0.029304</td><td>1.0</td><td>-0.655611</td><td>&quot;HealthImpactScore&quot;</td></tr><tr><td>0.198229</td><td>-0.348106</td><td>-0.108271</td><td>-0.152407</td><td>-0.090387</td><td>-0.008364</td><td>-0.110093</td><td>0.005969</td><td>-0.006715</td><td>0.005999</td><td>-0.008536</td><td>0.001848</td><td>0.014873</td><td>-0.655611</td><td>1.0</td><td>&quot;HealthImpactClass&quot;</td></tr></tbody></table></div>"
      ],
      "text/plain": [
       "shape: (15, 16)\n",
       "┌───────────┬───────────┬───────────┬───────────┬───┬───────────┬───────────┬───────────┬──────────┐\n",
       "│ RecordID  ┆ AQI       ┆ PM10      ┆ PM2_5     ┆ … ┆ HospitalA ┆ HealthImp ┆ HealthImp ┆ comp     │\n",
       "│ ---       ┆ ---       ┆ ---       ┆ ---       ┆   ┆ dmissions ┆ actScore  ┆ actClass  ┆ ---      │\n",
       "│ f64       ┆ f64       ┆ f64       ┆ f64       ┆   ┆ ---       ┆ ---       ┆ ---       ┆ str      │\n",
       "│           ┆           ┆           ┆           ┆   ┆ f64       ┆ f64       ┆ f64       ┆          │\n",
       "╞═══════════╪═══════════╪═══════════╪═══════════╪═══╪═══════════╪═══════════╪═══════════╪══════════╡\n",
       "│ 1.0       ┆ -0.003768 ┆ 0.02226   ┆ 0.022816  ┆ … ┆ -0.008299 ┆ 0.015786  ┆ 0.198229  ┆ RecordID │\n",
       "│ -0.003768 ┆ 1.0       ┆ 0.023127  ┆ 0.00589   ┆ … ┆ -0.013592 ┆ 0.61456   ┆ -0.348106 ┆ AQI      │\n",
       "│ 0.02226   ┆ 0.023127  ┆ 1.0       ┆ -0.012193 ┆ … ┆ -0.009076 ┆ 0.1826    ┆ -0.108271 ┆ PM10     │\n",
       "│ 0.022816  ┆ 0.00589   ┆ -0.012193 ┆ 1.0       ┆ … ┆ -0.023123 ┆ 0.220347  ┆ -0.152407 ┆ PM2_5    │\n",
       "│ 0.010694  ┆ 0.007836  ┆ 0.008487  ┆ 0.005564  ┆ … ┆ -0.002859 ┆ 0.124435  ┆ -0.090387 ┆ NO2      │\n",
       "│ …         ┆ …         ┆ …         ┆ …         ┆ … ┆ …         ┆ …         ┆ …         ┆ …        │\n",
       "│ -0.014545 ┆ 0.009302  ┆ -0.001315 ┆ 0.025244  ┆ … ┆ 0.009679  ┆ 0.019268  ┆ -0.008536 ┆ Respirat │\n",
       "│           ┆           ┆           ┆           ┆   ┆           ┆           ┆           ┆ oryCases │\n",
       "│ -0.030537 ┆ 0.009158  ┆ 0.015582  ┆ 0.017312  ┆ … ┆ -0.035632 ┆ -0.008857 ┆ 0.001848  ┆ Cardiova │\n",
       "│           ┆           ┆           ┆           ┆   ┆           ┆           ┆           ┆ scularCa │\n",
       "│           ┆           ┆           ┆           ┆   ┆           ┆           ┆           ┆ ses      │\n",
       "│ -0.008299 ┆ -0.013592 ┆ -0.009076 ┆ -0.023123 ┆ … ┆ 1.0       ┆ -0.029304 ┆ 0.014873  ┆ Hospital │\n",
       "│           ┆           ┆           ┆           ┆   ┆           ┆           ┆           ┆ Admissio │\n",
       "│           ┆           ┆           ┆           ┆   ┆           ┆           ┆           ┆ ns       │\n",
       "│ 0.015786  ┆ 0.61456   ┆ 0.1826    ┆ 0.220347  ┆ … ┆ -0.029304 ┆ 1.0       ┆ -0.655611 ┆ HealthIm │\n",
       "│           ┆           ┆           ┆           ┆   ┆           ┆           ┆           ┆ pactScor │\n",
       "│           ┆           ┆           ┆           ┆   ┆           ┆           ┆           ┆ e        │\n",
       "│ 0.198229  ┆ -0.348106 ┆ -0.108271 ┆ -0.152407 ┆ … ┆ 0.014873  ┆ -0.655611 ┆ 1.0       ┆ HealthIm │\n",
       "│           ┆           ┆           ┆           ┆   ┆           ┆           ┆           ┆ pactClas │\n",
       "│           ┆           ┆           ┆           ┆   ┆           ┆           ┆           ┆ s        │\n",
       "└───────────┴───────────┴───────────┴───────────┴───┴───────────┴───────────┴───────────┴──────────┘"
      ]
     },
     "execution_count": 21,
     "metadata": {},
     "output_type": "execute_result"
    }
   ],
   "source": [
    "data.corr().with_columns(pl.Series(data.columns).alias('comp'))"
   ]
  },
  {
   "cell_type": "code",
   "execution_count": null,
   "metadata": {},
   "outputs": [],
   "source": []
  }
 ],
 "metadata": {
  "kernelspec": {
   "display_name": "eda",
   "language": "python",
   "name": "python3"
  },
  "language_info": {
   "codemirror_mode": {
    "name": "ipython",
    "version": 3
   },
   "file_extension": ".py",
   "mimetype": "text/x-python",
   "name": "python",
   "nbconvert_exporter": "python",
   "pygments_lexer": "ipython3",
   "version": "3.8.19"
  }
 },
 "nbformat": 4,
 "nbformat_minor": 2
}
