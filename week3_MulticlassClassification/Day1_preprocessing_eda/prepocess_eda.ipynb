{
 "cells": [
  {
   "cell_type": "code",
   "execution_count": 1,
   "metadata": {},
   "outputs": [],
   "source": [
    "import sys\n",
    "sys.path.append(\"../../\")\n",
    "import warnings\n",
    "warnings.simplefilter(action=\"ignore\")\n",
    "import numpy as np\n",
    "import seaborn as sns\n",
    "import pandas as pd\n",
    "import polars as pl\n",
    "from functions.eda import *\n",
    "from functions.cat_eda import *\n",
    "from functions.num_eda import *\n",
    "from functions.pipeline_helpers import *"
   ]
  },
  {
   "cell_type": "code",
   "execution_count": 2,
   "metadata": {},
   "outputs": [
    {
     "data": {
      "text/html": [
       "<div><style>\n",
       ".dataframe > thead > tr,\n",
       ".dataframe > tbody > tr {\n",
       "  text-align: right;\n",
       "  white-space: pre-wrap;\n",
       "}\n",
       "</style>\n",
       "<small>shape: (5, 10)</small><table border=\"1\" class=\"dataframe\"><thead><tr><th>UDI</th><th>Product ID</th><th>Type</th><th>Air temperature [K]</th><th>Process temperature [K]</th><th>Rotational speed [rpm]</th><th>Torque [Nm]</th><th>Tool wear [min]</th><th>Target</th><th>Failure Type</th></tr><tr><td>i64</td><td>str</td><td>str</td><td>f64</td><td>f64</td><td>i64</td><td>f64</td><td>i64</td><td>i64</td><td>str</td></tr></thead><tbody><tr><td>1</td><td>&quot;M14860&quot;</td><td>&quot;M&quot;</td><td>298.1</td><td>308.6</td><td>1551</td><td>42.8</td><td>0</td><td>0</td><td>&quot;No Failure&quot;</td></tr><tr><td>2</td><td>&quot;L47181&quot;</td><td>&quot;L&quot;</td><td>298.2</td><td>308.7</td><td>1408</td><td>46.3</td><td>3</td><td>0</td><td>&quot;No Failure&quot;</td></tr><tr><td>3</td><td>&quot;L47182&quot;</td><td>&quot;L&quot;</td><td>298.1</td><td>308.5</td><td>1498</td><td>49.4</td><td>5</td><td>0</td><td>&quot;No Failure&quot;</td></tr><tr><td>4</td><td>&quot;L47183&quot;</td><td>&quot;L&quot;</td><td>298.2</td><td>308.6</td><td>1433</td><td>39.5</td><td>7</td><td>0</td><td>&quot;No Failure&quot;</td></tr><tr><td>5</td><td>&quot;L47184&quot;</td><td>&quot;L&quot;</td><td>298.2</td><td>308.7</td><td>1408</td><td>40.0</td><td>9</td><td>0</td><td>&quot;No Failure&quot;</td></tr></tbody></table></div>"
      ],
      "text/plain": [
       "shape: (5, 10)\n",
       "┌─────┬────────────┬──────┬──────────────────┬───┬─────────────┬───────────┬────────┬──────────────┐\n",
       "│ UDI ┆ Product ID ┆ Type ┆ Air temperature  ┆ … ┆ Torque [Nm] ┆ Tool wear ┆ Target ┆ Failure Type │\n",
       "│ --- ┆ ---        ┆ ---  ┆ [K]              ┆   ┆ ---         ┆ [min]     ┆ ---    ┆ ---          │\n",
       "│ i64 ┆ str        ┆ str  ┆ ---              ┆   ┆ f64         ┆ ---       ┆ i64    ┆ str          │\n",
       "│     ┆            ┆      ┆ f64              ┆   ┆             ┆ i64       ┆        ┆              │\n",
       "╞═════╪════════════╪══════╪══════════════════╪═══╪═════════════╪═══════════╪════════╪══════════════╡\n",
       "│ 1   ┆ M14860     ┆ M    ┆ 298.1            ┆ … ┆ 42.8        ┆ 0         ┆ 0      ┆ No Failure   │\n",
       "│ 2   ┆ L47181     ┆ L    ┆ 298.2            ┆ … ┆ 46.3        ┆ 3         ┆ 0      ┆ No Failure   │\n",
       "│ 3   ┆ L47182     ┆ L    ┆ 298.1            ┆ … ┆ 49.4        ┆ 5         ┆ 0      ┆ No Failure   │\n",
       "│ 4   ┆ L47183     ┆ L    ┆ 298.2            ┆ … ┆ 39.5        ┆ 7         ┆ 0      ┆ No Failure   │\n",
       "│ 5   ┆ L47184     ┆ L    ┆ 298.2            ┆ … ┆ 40.0        ┆ 9         ┆ 0      ┆ No Failure   │\n",
       "└─────┴────────────┴──────┴──────────────────┴───┴─────────────┴───────────┴────────┴──────────────┘"
      ]
     },
     "execution_count": 2,
     "metadata": {},
     "output_type": "execute_result"
    }
   ],
   "source": [
    "data=pl.read_csv(\"predictive_maintenance.csv\")\n",
    "data.head()"
   ]
  },
  {
   "cell_type": "code",
   "execution_count": 3,
   "metadata": {},
   "outputs": [
    {
     "data": {
      "text/html": [
       "<div><style>\n",
       ".dataframe > thead > tr,\n",
       ".dataframe > tbody > tr {\n",
       "  text-align: right;\n",
       "  white-space: pre-wrap;\n",
       "}\n",
       "</style>\n",
       "<small>shape: (1, 10)</small><table border=\"1\" class=\"dataframe\"><thead><tr><th>UDI</th><th>Product ID</th><th>Type</th><th>Air temperature [K]</th><th>Process temperature [K]</th><th>Rotational speed [rpm]</th><th>Torque [Nm]</th><th>Tool wear [min]</th><th>Target</th><th>Failure Type</th></tr><tr><td>u32</td><td>u32</td><td>u32</td><td>u32</td><td>u32</td><td>u32</td><td>u32</td><td>u32</td><td>u32</td><td>u32</td></tr></thead><tbody><tr><td>0</td><td>0</td><td>0</td><td>0</td><td>0</td><td>0</td><td>0</td><td>0</td><td>0</td><td>0</td></tr></tbody></table></div>"
      ],
      "text/plain": [
       "shape: (1, 10)\n",
       "┌─────┬────────────┬──────┬──────────────────┬───┬─────────────┬───────────┬────────┬──────────────┐\n",
       "│ UDI ┆ Product ID ┆ Type ┆ Air temperature  ┆ … ┆ Torque [Nm] ┆ Tool wear ┆ Target ┆ Failure Type │\n",
       "│ --- ┆ ---        ┆ ---  ┆ [K]              ┆   ┆ ---         ┆ [min]     ┆ ---    ┆ ---          │\n",
       "│ u32 ┆ u32        ┆ u32  ┆ ---              ┆   ┆ u32         ┆ ---       ┆ u32    ┆ u32          │\n",
       "│     ┆            ┆      ┆ u32              ┆   ┆             ┆ u32       ┆        ┆              │\n",
       "╞═════╪════════════╪══════╪══════════════════╪═══╪═════════════╪═══════════╪════════╪══════════════╡\n",
       "│ 0   ┆ 0          ┆ 0    ┆ 0                ┆ … ┆ 0           ┆ 0         ┆ 0      ┆ 0            │\n",
       "└─────┴────────────┴──────┴──────────────────┴───┴─────────────┴───────────┴────────┴──────────────┘"
      ]
     },
     "execution_count": 3,
     "metadata": {},
     "output_type": "execute_result"
    }
   ],
   "source": [
    "data.null_count()"
   ]
  },
  {
   "cell_type": "code",
   "execution_count": 4,
   "metadata": {},
   "outputs": [
    {
     "data": {
      "text/html": [
       "<div><style>\n",
       ".dataframe > thead > tr,\n",
       ".dataframe > tbody > tr {\n",
       "  text-align: right;\n",
       "  white-space: pre-wrap;\n",
       "}\n",
       "</style>\n",
       "<small>shape: (2,)</small><table border=\"1\" class=\"dataframe\"><thead><tr><th>Target</th></tr><tr><td>u32</td></tr></thead><tbody><tr><td>9661</td></tr><tr><td>339</td></tr></tbody></table></div>"
      ],
      "text/plain": [
       "shape: (2,)\n",
       "Series: 'Target' [u32]\n",
       "[\n",
       "\t9661\n",
       "\t339\n",
       "]"
      ]
     },
     "execution_count": 4,
     "metadata": {},
     "output_type": "execute_result"
    }
   ],
   "source": [
    "data['Target'].unique_counts()"
   ]
  },
  {
   "cell_type": "code",
   "execution_count": null,
   "metadata": {},
   "outputs": [],
   "source": []
  }
 ],
 "metadata": {
  "kernelspec": {
   "display_name": "eda",
   "language": "python",
   "name": "python3"
  },
  "language_info": {
   "codemirror_mode": {
    "name": "ipython",
    "version": 3
   },
   "file_extension": ".py",
   "mimetype": "text/x-python",
   "name": "python",
   "nbconvert_exporter": "python",
   "pygments_lexer": "ipython3",
   "version": "3.8.19"
  }
 },
 "nbformat": 4,
 "nbformat_minor": 2
}
